{
 "cells": [
  {
   "cell_type": "code",
   "execution_count": null,
   "id": "2725545e",
   "metadata": {},
   "outputs": [],
   "source": [
    "# Exectue from the vetting folder\n",
    "\n",
    "\n",
    "import pandas as pd\n",
    "import pyam\n",
    "import plotly.express as px\n",
    "import plotly.io as pio\n",
    "import plotly.graph_objects as go\n",
    "from plotly.subplots import make_subplots\n",
    "import plotly.graph_objects as go\n",
    "pio.templates\n",
    "import os\n",
    "# os.chdir('C:\\\\Github\\\\eu-climate-advisory-board-workflow\\\\vetting')\n",
    "from vetting_functions import *\n",
    "\n"
   ]
  },
  {
   "cell_type": "code",
   "execution_count": null,
   "id": "38ce9467",
   "metadata": {},
   "outputs": [],
   "source": [
    "pio.templates\n",
    "pio.templates.default = 'seaborn'"
   ]
  },
  {
   "cell_type": "code",
   "execution_count": null,
   "id": "0fe7b7dc",
   "metadata": {},
   "outputs": [],
   "source": [
    "instance = 'eu-climate-advisory-board'\n",
    "# vstr = '20230329'\n",
    "main_folder = f'outputs\\\\'\n",
    "years = list(range(2015,2071))\n"
   ]
  },
  {
   "cell_type": "code",
   "execution_count": null,
   "id": "d3c377b1",
   "metadata": {},
   "outputs": [],
   "source": [
    "\n",
    "df = pyam.read_iiasa(instance,\n",
    "                     year=years,\n",
    "                     region='EU27', \n",
    "                     meta=True)\n",
    "\n",
    "\n",
    "# Select either of the below\n",
    "# outputs = 'plots_C1_excludeFalse'\n",
    "outputs = 'plots_C1_excludeTrue'\n",
    "\n",
    "\n",
    "output_folder = f'{main_folder}iconics\\\\'\n",
    "if not os.path.exists(f'{main_folder}iconics\\\\'):\n",
    "    os.makedirs(f'{main_folder}iconics\\\\')\n",
    "    print(\"created folder : \", f'{main_folder}iconics\\\\')\n",
    "\n",
    "os.chdir(output_folder)\n",
    "\n",
    "poles = df.filter(model='POLES*')\n",
    "\n",
    "if outputs == 'plots_C1_excludeFalse':\n",
    "    df.filter(Category=['C1*','Regional only'], keep=True, inplace=True)\n",
    "    df.filter(exclude=False, keep=True, inplace=True)\n",
    "    df.filter(model='POLES*', keep=False, inplace=True)\n",
    "    df.append(poles, inplace=True)\n",
    "elif outputs == 'plots_C1_excludeTrue':\n",
    "    df.filter(Category=['C1*','Regional only'], keep=True, inplace=True)\n",
    "    df.filter(model='POLES*', keep=False, inplace=True)\n",
    "    df.append(poles, inplace=True)\n",
    "\n",
    "\n",
    "dfmeta = df.meta.copy().reset_index()\n",
    "dfmeta['mskey'] = dfmeta['model'].str[:4]+'>>'+dfmeta['scenario']\n",
    "dfmeta['model_stripped'] = dfmeta['model'].apply(strip_version).values\n",
    "dfp = df.as_pandas()\n",
    "dfp['mskey'] = dfp['model'].str[:4]+'>>'+dfp['scenario']"
   ]
  },
  {
   "cell_type": "code",
   "execution_count": null,
   "id": "2947b336",
   "metadata": {},
   "outputs": [],
   "source": [
    "prefix = 'Diagnostics|Harmonized|'\n",
    "\n",
    "ghg_var = f'{prefix}Emissions|Kyoto Gases (AR4) (EEA - intra-EU only)'\n",
    "\n",
    "dfp.sort_values(by=['model','scenario','variable','year'], axis=0, inplace=True)\n",
    "dfp.loc[(dfp.variable==ghg_var),['model','scenario','variable','year','value'] ]"
   ]
  },
  {
   "cell_type": "code",
   "execution_count": null,
   "id": "93f4a3ce",
   "metadata": {},
   "outputs": [],
   "source": [
    "df"
   ]
  },
  {
   "cell_type": "code",
   "execution_count": null,
   "id": "1dac948a",
   "metadata": {},
   "outputs": [],
   "source": [
    "def plot_line(dfp, variable, output='fig_data', x='year', y='value', color='model', line_group='mskey', hover_name='scenario', years=[]):\n",
    "    if len(years)>0:\n",
    "        dfpin = dfp.loc[(dfp.variable==variable) & dfp.year.isin(years)]\n",
    "    else:\n",
    "        dfpin = dfp.loc[dfp.variable==variable]\n",
    "    dfpins = dfpin.sort_values(by=['model','scenario','year'], axis=0, ignore_index=True)\n",
    "#     dfpins.head()\n",
    "\n",
    "    if output=='fig_data':\n",
    "        fig = px.line(dfpins, x=x, y=y, title=variable,  color=color, line_group=line_group, hover_name=hover_name)\n",
    "        fig.show()\n",
    "        return fig, dfpins\n",
    "    elif output=='subplot':\n",
    "        return px.line(dfpins, x=x, y=y, title=variable,  color=color, line_group=line_group, hover_name=hover_name)\n",
    "\n",
    "\n"
   ]
  },
  {
   "cell_type": "markdown",
   "id": "646999e2",
   "metadata": {},
   "source": [
    "## Emissions"
   ]
  },
  {
   "cell_type": "code",
   "execution_count": null,
   "id": "5e94f868",
   "metadata": {},
   "outputs": [],
   "source": [
    "fig, dfpins = plot_line(dfp, variable=ghg_var)#, years=range(2020,2051))"
   ]
  },
  {
   "cell_type": "code",
   "execution_count": null,
   "id": "83fd7c41",
   "metadata": {},
   "outputs": [],
   "source": [
    "dfpins = plot_line(dfp, variable=ghg_var)"
   ]
  },
  {
   "cell_type": "code",
   "execution_count": null,
   "id": "95a93b26",
   "metadata": {},
   "outputs": [],
   "source": [
    "dfpins = plot_line(dfp, variable=f'{prefix}Emissions|CO2')"
   ]
  },
  {
   "cell_type": "markdown",
   "id": "248b9548",
   "metadata": {},
   "source": [
    "## Primary Energy Renewables"
   ]
  },
  {
   "cell_type": "code",
   "execution_count": null,
   "id": "f273be8c",
   "metadata": {
    "scrolled": true
   },
   "outputs": [],
   "source": [
    "dfpins = plot_line(dfp, variable=f'Primary Energy|Renewables (incl.Biomass)|Share', years=range(2020,2051))"
   ]
  },
  {
   "cell_type": "code",
   "execution_count": null,
   "id": "680700d4",
   "metadata": {
    "scrolled": true
   },
   "outputs": [],
   "source": [
    "dfpins = plot_line(dfp, variable=f'Primary Energy|Non-Biomass Renewables|Share')"
   ]
  },
  {
   "cell_type": "markdown",
   "id": "8e283f0b",
   "metadata": {},
   "source": [
    "## Secondary Energy|Electricity Renewables"
   ]
  },
  {
   "cell_type": "code",
   "execution_count": null,
   "id": "357bbc9a",
   "metadata": {
    "scrolled": true
   },
   "outputs": [],
   "source": [
    "dfpins = plot_line(dfp, variable=f'Secondary Energy|Electricity|Renewables (incl.Biomass)|Share')#, years=range(2020,2051))"
   ]
  },
  {
   "cell_type": "code",
   "execution_count": null,
   "id": "104aeaac",
   "metadata": {
    "scrolled": true
   },
   "outputs": [],
   "source": [
    "dfpins = plot_line(dfp, variable=f'Secondary Energy|Electricity|Non-Biomass Renewables|Share')"
   ]
  },
  {
   "cell_type": "markdown",
   "id": "5b150036",
   "metadata": {},
   "source": [
    "## Final Energy|Electrification"
   ]
  },
  {
   "cell_type": "code",
   "execution_count": null,
   "id": "034b0c58",
   "metadata": {},
   "outputs": [],
   "source": [
    "dfpins = plot_line(dfp, variable='Final Energy|Electrification|Share')"
   ]
  },
  {
   "cell_type": "code",
   "execution_count": null,
   "id": "ef8b5f0d",
   "metadata": {},
   "outputs": [],
   "source": [
    "def plot_scatter_meta(df,  x='', y='', markersize=20, kwargs={}):\n",
    "    #color='model', hover_name='scenario', title=''\n",
    "    # Input df as df.meta table\n",
    "#     dfpins = dfpin.sort_values(by=['model','scenario','year'], axis=0, ignore_index=True)\n",
    "#     dfpins.head()\n",
    "    df = df[['model','scenario',x ,y]]\n",
    "    fig = px.scatter(df, x=x, y=y, **kwargs) #title=title,  color=color, hover_name=hover_name)\n",
    "    fig.update_traces(marker=dict(size=markersize,\n",
    "                          line=dict(width=2,\n",
    "                                    color='DarkSlateGrey')),\n",
    "              selector=dict(mode='markers'))\n",
    "    fig.show()\n",
    "    return fig\n",
    "\n",
    "def plot_scatter_variables(dfp, markersize=20,  x='', y='', year=2050, kwargs={}):\n",
    "    ms= ['model','scenario']\n",
    "    xd = dfp.query(\"variable==@x and year==@year\")\n",
    "    yd = dfp.query(\"variable==@y and year==@year\")\n",
    "    xd = xd.rename(columns={'value':x})\n",
    "    yd = yd.rename(columns={'value':y})\n",
    "    xd = xd[['model','scenario',x]]\n",
    "    yd = yd[['model','scenario',y]]\n",
    "    data = pd.merge(xd, yd, on=ms)\n",
    "\n",
    "    fig = px.scatter(data, x=x, y=y, **kwargs)\n",
    "    fig.update_traces(marker=dict(size=markersize,\n",
    "                              line=dict(width=2,\n",
    "                                        color='DarkSlateGrey')),\n",
    "                  selector=dict(mode='markers'))\n",
    "    fig.show()\n",
    "    return fig"
   ]
  },
  {
   "cell_type": "code",
   "execution_count": null,
   "id": "b023c5c8",
   "metadata": {},
   "outputs": [],
   "source": [
    "dfmeta.columns"
   ]
  },
  {
   "cell_type": "markdown",
   "id": "5cd26f65",
   "metadata": {},
   "source": [
    "# Scatter plots"
   ]
  },
  {
   "cell_type": "code",
   "execution_count": null,
   "id": "2d5f437e",
   "metadata": {},
   "outputs": [],
   "source": [
    "year = 2050\n",
    "config = {'FE_x_PE_import': dict(x='Final Energy',\n",
    "                               y='PE Import dependency',\n",
    "                               title=f'<b>Final energy vs PE Import dependency in {year}</b>',\n",
    "                               ptype='vari'),\n",
    "          \n",
    "          'FEelec_x_PERenewNB': dict(x='Final Energy|Electrification|Share',\n",
    "                               y='Primary Energy|Non-biomass renewables|Share',\n",
    "                               title=f'<b>Final En. Electrification vs Renewables share in {year}</b>',\n",
    "                               ptype='vari'),\n",
    "          \n",
    "          'FE_x_PERenewNB': dict(x='Final Energy',\n",
    "                               y='Primary Energy|Non-biomass renewables|Share',\n",
    "                               title=f'<b>Final energy vs Renewables share in {year}</b>',\n",
    "                               ptype='vari'),\n",
    "          'FE_x_cumBECCS': dict(x=f'Final Energy in {year}, EJ/yr',\n",
    "                               y='cumulative BECCS (2020-2050, Gt CO2)',\n",
    "                               title=f'<b>Final energy vs Cum BECCS in {year}</b>',          \n",
    "                               ptype='meta'),\n",
    "          \n",
    "          'FE_x_Hydrogen': dict(x=f'Final Energy in {year}, EJ/yr',\n",
    "                               y=f'Hydrogen production|Final Energy|Share in {year}, %',\n",
    "                               title=f'<b>Final energy vs Hydrogen prod. {year}</b>',          \n",
    "                               ptype='meta'),          \n",
    "          \n",
    "          'FEelec_x_Hydrogen': dict(x=f'Final Energy|Electrification|Share in {year}, %',\n",
    "                               y=f'Hydrogen production|Final Energy|Share in {year}, %',\n",
    "                               title=f'<b>Final En. Electrification vs Hydrogen prod. {year}</b>',          \n",
    "                               ptype='meta'),           \n",
    "          'Hydrogen_x_PERenewNB': dict(x=f'Hydrogen production|Final Energy|Share in {year}, %',\n",
    "                               y=f'Primary Energy|Non-biomass renewables|Share in {year}, %',\n",
    "                               title=f'<b>Hydrogen prod. vs Renewables {year}</b>',          \n",
    "                               ptype='meta'), \n",
    "          'Hydrogen_x_PEImportDep': dict(x=f'Hydrogen production|Final Energy|Share in {year}, %',\n",
    "                               y=f'PE Import dependency in 2050, %',\n",
    "                               title=f'<b>Hydrogen prod. vs PE import dependency {year}</b>',          \n",
    "                               ptype='meta'),           \n",
    "          'Hydrogen_x_PEFossilImportDep': dict(x=f'Hydrogen production|Final Energy|Share in {year}, %',\n",
    "                               y=f'PE Import dependency|Fossil in 2050, %',\n",
    "                               title=f'<b>Hydrogen prod. vs PE Fossil import dependency {year}</b>',          \n",
    "                               ptype='meta'),               \n",
    "          'PERenewNB_x_PEFossilImportDep': dict(x='Primary Energy|Non-biomass renewables|Share in 2050, %',\n",
    "                               y=f'PE Import dependency|Fossil in 2050, %',\n",
    "                               title=f'<b>Renewables. vs PE Fossil import dependency {year}</b>',          \n",
    "                               ptype='meta'),         \n",
    "        'cumBECCS_x_NonCO2': dict(x='Emissions|Total Non-CO2 in 2050, Mt CO2-equiv/yr',\n",
    "                               y='cumulative BECCS (2020-2050, Gt CO2)',\n",
    "                               title=f'<b>Non-CO2 emissions in 2050 vs Cum BECCS {year}</b>',          \n",
    "                               ptype='meta'),   \n",
    "        'cumGHGs_x_cumCO2': dict(x='cumulative GHGs (incl. indirect AFOLU) (2020-2050, Gt CO2-equiv)',\n",
    "                               y='cumulative net CO2 (2020-2050, Gt CO2)',\n",
    "                               title=f'<b>Cum. GHGs vs Cum. net CO2 in 2050</b>',          \n",
    "                               ptype='meta'), \n",
    "        'cumCO2_x_NonCO2': dict(x='cumulative net CO2 (2020-2050, Gt CO2)',\n",
    "                               y='Emissions|Total Non-CO2 in 2050, Mt CO2-equiv/yr',\n",
    "                               title=f'<b>cum. CO2 emissions vs Non-CO2 in {year}</b>',          \n",
    "                               ptype='meta'),    \n",
    "        'GHGsred1930_x_cumGHG3050': dict(x='GHG emissions reductions 2019-2030 %',\n",
    "                               y='cumulative GHGs (incl. indirect AFOLU) (2030-2050, Gt CO2-equiv)',\n",
    "                               title=f'<b>GHG reductions 2019-2030 vs Cum. GHGs 2030-50</b>',          \n",
    "                               ptype='meta'), \n",
    "        'GHGsred1930_x_cumGHG2030': dict(x='GHG emissions reductions 2019-2030 %',\n",
    "                               y='cumulative GHGs (incl. indirect AFOLU) (2020-2030, Gt CO2-equiv)',\n",
    "                               title=f'<b>GHG reductions 2019-2030 vs Cum. GHGs 2020-30</b>',          \n",
    "                               ptype='meta'),      \n",
    "         }\n",
    "          \n",
    "          \n",
    "# dout, fig = plot_scatter_variables(dfp, x=x, y=y, year=year, kwargs=akwargs)"
   ]
  },
  {
   "cell_type": "code",
   "execution_count": null,
   "id": "54dd78c2",
   "metadata": {},
   "outputs": [],
   "source": [
    "output_folder"
   ]
  },
  {
   "cell_type": "code",
   "execution_count": null,
   "id": "c060196b",
   "metadata": {},
   "outputs": [],
   "source": [
    "os.getcwd()"
   ]
  },
  {
   "cell_type": "code",
   "execution_count": null,
   "id": "35442a28",
   "metadata": {},
   "outputs": [],
   "source": [
    "year = 2050\n",
    "\n",
    "for scat, info in config.items():\n",
    "    akwargs = {'color':'model', 'hover_name':'scenario', 'title':info['title']}\n",
    "\n",
    "    \n",
    "    if info['ptype']=='vari':\n",
    "#         x = info['x']\n",
    "        fig = plot_scatter_variables(dfp, x=info['x'], y=info['y'], year=year, kwargs=akwargs)\n",
    "    \n",
    "    elif info['ptype']=='meta':\n",
    "        cols = ['model','scenario', info['x'], info['y'], 'year']\n",
    "\n",
    "        fig = plot_scatter_meta(dfp[cols].query(\"year==@year\"), x=info['x'], y=info['y'], kwargs=akwargs)\n",
    "\n",
    "    filename = f'scatter_{scat}'\n",
    "    fig.update_layout(width=None).write_html(filename+'.html', include_plotlyjs='cdn')\n",
    "    fig.write_image(filename+'.png')\n"
   ]
  },
  {
   "cell_type": "markdown",
   "id": "ba701bbf",
   "metadata": {},
   "source": [
    "## Year net zero scatters"
   ]
  },
  {
   "cell_type": "code",
   "execution_count": null,
   "id": "dc8e1967",
   "metadata": {},
   "outputs": [],
   "source": [
    "# x = 'Final Energy|Electrification|Share in year of net zero, %'\n",
    "# y = 'Primary Energy|Non-biomass renewables|Share in year of net zero, %'\n",
    "\n",
    "# akwargs = {'color':'model', 'hover_name':'scenario',\n",
    "#            'title':'<b>Year NZ: Final energy electrification vs Renewables share</b>', 'size_max': 20}\n",
    "\n",
    "# fig = plot_scatter_meta(dfp, x=x, y=y, kwargs=akwargs) "
   ]
  },
  {
   "cell_type": "code",
   "execution_count": null,
   "id": "9390ee76",
   "metadata": {},
   "outputs": [],
   "source": [
    "# x = 'Final Energy in year of net zero, EJ/yr'\n",
    "# y = 'cumulative BECCS (2020 to year of net zero CO2, Gt CO2)'\n",
    "# akwargs = {'color':'model', 'hover_name':'scenario',\n",
    "#            'title':'<b>Year NZ: Final energy vs Cum BECCS</b>', 'size_max': 20}\n",
    "\n",
    "# fig = plot_scatter_meta(dfp, x=x, y=y, kwargs=akwargs) "
   ]
  },
  {
   "cell_type": "markdown",
   "id": "49d48017",
   "metadata": {},
   "source": [
    "# Parallel coordinates"
   ]
  },
  {
   "cell_type": "code",
   "execution_count": null,
   "id": "b454ebf7",
   "metadata": {},
   "outputs": [],
   "source": [
    "# Set numbering for models\n",
    "modelnums = {v:k for k,v in enumerate(dfmeta.model.unique())}\n",
    "modelnums = dict(reversed(modelnums.items()))\n",
    "dfmeta['modelnum'] = dfmeta.model.replace(modelnums)\n",
    "mns = [f'{k}={v}' for k,v in modelnums.items()]\n",
    "mns = '<br>'.join(mns)\n",
    "modtxt = f'Model<br>{mns}'"
   ]
  },
  {
   "cell_type": "code",
   "execution_count": null,
   "id": "8d553e7b",
   "metadata": {},
   "outputs": [],
   "source": [
    "# define plotting function\n",
    "def plot_parc(dfmeta, dimensions, colorcol='modelnum', title='', filename='x.html', colorscale='spectral'):\n",
    "    fig = go.Figure(data=\n",
    "    go.Parcoords(\n",
    "        line = dict(color = dfmeta[colorcol],\n",
    "                   colorscale = colorscale,\n",
    "                   showscale = True,\n",
    "#                    cmin = -4000,\n",
    "#                    cmax = -100\n",
    "                   ),\n",
    "        dimensions = dimensions,\n",
    "        tickfont = dict(size=14),\n",
    "        labelfont = dict(size=18, ),\n",
    "#         labelangle = -45,\n",
    "        labelside='bottom',\n",
    "        name='dfddfd'#dfmeta['mskey']\n",
    "#                               unselected = dict(line = dict(color = 'green', opacity = 0.5))\n",
    "\n",
    "    )\n",
    ")\n",
    "\n",
    "    mns = [f'{k}={v}' for k,v in modelnums.items()]\n",
    "    mns = ', '.join(mns)\n",
    "    title = title\n",
    "    fig.update_layout(\n",
    "        plot_bgcolor = 'white',\n",
    "        paper_bgcolor = 'white',\n",
    "        title = title,\n",
    "        margin=dict(l=80, r=50, t=150, b=200)\n",
    "\n",
    "    #     yaxis = dict( tickfont = dict(size=50))\n",
    "    )\n",
    "    fig.show()\n",
    "    fig.update_layout(width=None).write_html(filename, include_plotlyjs='cdn')\n",
    "\n"
   ]
  },
  {
   "cell_type": "markdown",
   "id": "0286bc44",
   "metadata": {},
   "source": [
    "## Renewables and final energy"
   ]
  },
  {
   "cell_type": "code",
   "execution_count": null,
   "id": "d3518620",
   "metadata": {},
   "outputs": [],
   "source": [
    "title = f'<b>Renewables & final energy</b>'\n",
    "pcspec = {\n",
    "        'Cum CO2 to YNZ<br>Gt CO2' : {'col': 'cumulative net CO2 (2020 to year of net zero CO2, Gt CO2)',},\n",
    "#         'GHGs in YNZ' : {'col':  'Emissions|Kyoto Gases (incl. indirect AFOLU) in year of net zero, Mt CO2-equiv/yr',},\n",
    "#         'GHGs in 2050': {'col':'Emissions|Kyoto Gases (incl. indirect AFOLU) in 2050, Mt CO2-equiv/yr'},\n",
    "        'Non-CO2 red. by 2050<br>%': {'col': 'Non-CO2 emissions reductions 2020-2050 %',},\n",
    "        'PE NB Renew. share in YNZ<br>%'    : {'col': 'Primary Energy|Non-biomass renewables|Share in year of net zero, %',},\n",
    "        'Final Energy in YNZ<br>EJ/yr' : {'col':   'Final Energy in year of net zero, EJ/yr',},\n",
    "        'Electr. FE in YNZ<br>%' : {'col':   'Final Energy|Electrification|Share in year of net zero, %',},\n",
    "        modtxt: {'col': 'modelnum'},\n",
    "}\n",
    "labels = {v['col']:k for k,v in pcspec.items()}\n",
    "dimensions = list(dict(label=v, values=dfmeta[k]) for k,v in labels.items())\n",
    "# dimensions[-1]['tickvals'] = list(modelnums.keys())\n",
    "\n",
    "filename = f'PC_Renew_FE.html'\n",
    "colorscale = ['red', 'blue','orange','green','magenta']\n",
    "plot_parc(dfmeta, dimensions, colorcol='modelnum', title=title, filename=filename, colorscale=colorscale)"
   ]
  },
  {
   "cell_type": "markdown",
   "id": "303429a6",
   "metadata": {},
   "source": [
    "## BECCS & Fossil"
   ]
  },
  {
   "cell_type": "code",
   "execution_count": null,
   "id": "c21fd59e",
   "metadata": {},
   "outputs": [],
   "source": [
    "title = f'<b>BECCS & Fossil</b>'\n",
    "pcspec = {\n",
    "        'Cum CO2 to YNZ<br>Gt CO2' : {'col': 'cumulative net CO2 (2020 to year of net zero CO2, Gt CO2)',},\n",
    "#         'GHGs in YNZ' : {'col':  'Emissions|Kyoto Gases (incl. indirect AFOLU) in year of net zero, Mt CO2-equiv/yr',},\n",
    "#         'GHGs in 2050': {'col':'Emissions|Kyoto Gases (incl. indirect AFOLU) in 2050, Mt CO2-equiv/yr'},\n",
    "        'Non-CO2 red. by 2050<br>%': {'col': 'Non-CO2 emissions reductions 2020-2050 %',},\n",
    "        'PE NB Renew. share in YNZ<br>%'    : {'col':  'Primary Energy|Non-biomass renewables|Share in year of net zero, %',},\n",
    "        'BECCS in YNZ<br>Mt CO2/yr' : {'col':   'Carbon Sequestration|CCS|Biomass in year of net zero, Mt CO2/yr',},\n",
    "        'PE Fossil share in YNZ<br>%' : {'col':   'Primary Energy|Fossil|Share in year of net zero, %',},\n",
    "        modtxt: {'col': 'modelnum'},\n",
    "}\n",
    "labels = {v['col']:k for k,v in pcspec.items()}\n",
    "dimensions = list(dict(label=v, values=dfmeta[k]) for k,v in labels.items())\n",
    "filename = f'PC_BECCS_Fossil.html'\n",
    "plot_parc(dfmeta, dimensions, colorcol='modelnum', title=title, filename=filename, colorscale=colorscale)"
   ]
  },
  {
   "cell_type": "markdown",
   "id": "bba6c028",
   "metadata": {},
   "source": [
    "## Emissions GHG /CO2 / Non-CO2 tradeoff"
   ]
  },
  {
   "cell_type": "code",
   "execution_count": null,
   "id": "8e5bd4d1",
   "metadata": {},
   "outputs": [],
   "source": [
    "title = f'<b>GHG /CO2 /  Non-CO2 tradeoffs</b>'\n",
    "pcspec = {\n",
    "        'year NZ CO2': {'col': 'year of net-zero CO2 emissions (threshold=0 Gt CO2/yr)'},\n",
    "        'Cum CO2 to YNZ<br>Gt CO2' : {'col': 'cumulative net CO2 (2020 to year of net zero CO2, Gt CO2)',},\n",
    "        'GHGs in YNZ<br>My CO2-equiv' : {'col':  'Emissions|Kyoto Gases (incl. indirect AFOLU) in year of net zero, Mt CO2-equiv/yr',},\n",
    "        'Non-CO2 in YNZ<br>My CO2-equiv': {'col':'Emissions|Total Non-CO2 in year of net zero, Mt CO2-equiv/yr'},\n",
    "        'Non-CO2 red. by 2050<br>%': {'col': 'Non-CO2 emissions reductions 2020-2050 %',},\n",
    "        'BECCS in YNZ<br>Mt CO2/yr' : {'col':   'Carbon Sequestration|CCS|Biomass in year of net zero, Mt CO2/yr',},\n",
    "        modtxt: {'col': 'modelnum'},\n",
    "}\n",
    "labels = {v['col']:k for k,v in pcspec.items()}\n",
    "dimensions = list(dict(label=v, values=dfmeta[k]) for k,v in labels.items())\n",
    "filename = f'PC_GHG_CO2_tradeoffs.html'\n",
    "plot_parc(dfmeta, dimensions, colorcol='modelnum', title=title, filename=filename, colorscale=colorscale)"
   ]
  },
  {
   "cell_type": "markdown",
   "id": "41501021",
   "metadata": {},
   "source": [
    "## HTML histograms"
   ]
  },
  {
   "cell_type": "code",
   "execution_count": null,
   "id": "0f8fdf8f",
   "metadata": {},
   "outputs": [],
   "source": [
    "\n",
    "def plot_histo(dfo, columns, filename=None, color_column='model', nbins=25, title=''):\n",
    "    \n",
    "    fig = make_subplots(rows=len(columns), cols=1)\n",
    "\n",
    "    colormap = dict(zip(dfo[color_column].unique(), px.colors.qualitative.Light24))\n",
    "    in_legend = []\n",
    "    threshold_plot = 0.5\n",
    "\n",
    "    for i, column in enumerate(columns[4:]):\n",
    "\n",
    "\n",
    "        # Create a histogram figure, and add all its traces to the main figure\n",
    "        # Set bingroup to None to avoid sharing the same bins accross subplots\n",
    "        for trace in px.histogram(dfo, x=column, color=color_column, nbins=nbins, color_discrete_map=colormap).data:\n",
    "            fig.add_trace(trace.update(\n",
    "                bingroup=None, showlegend=trace.showlegend & (i==0)\n",
    "            ), col=1, row=i+1)\n",
    "\n",
    "\n",
    "        # Give xaxis its title and change tickformat if necessary\n",
    "        fig.update_xaxes(\n",
    "            row=i+1,\n",
    "            title=column, title_standoff=0,\n",
    "#             tickformat='%' if '%' in column else None\n",
    "        )\n",
    "\n",
    "    \n",
    "    fig.update_yaxes(title='# scenarios', title_standoff=0)\n",
    "    fig.update_layout(\n",
    "        height=200*len(columns), width=900,\n",
    "        barmode='stack',\n",
    "        margin={'l': 50, 'r': 20, 't': 40, 'b': 60},\n",
    "        legend_y=0.5,\n",
    "        title=title,\n",
    "        font=dict(size=18)\n",
    "    )\n",
    "\n",
    "##%% Save to html\n",
    "    if filename==None:\n",
    "        fig.show()\n",
    "    else:\n",
    "        fig.update_layout(width=None).write_html(filename, include_plotlyjs='cdn')\n",
    "\n"
   ]
  },
  {
   "cell_type": "markdown",
   "id": "d0aa7566",
   "metadata": {},
   "source": [
    "## Emissions"
   ]
  },
  {
   "cell_type": "code",
   "execution_count": null,
   "id": "881a5066",
   "metadata": {},
   "outputs": [],
   "source": [
    "columns = ['model','scenario','model_stripped', 'mskey',\n",
    "        'year of net-zero CO2 emissions (threshold=0 Gt CO2/yr)',\n",
    "        'year of net-zero GHGs full emissions (threshold=0 Gt CO2-equiv/yr)',\n",
    "        'cumulative net CO2 (2020 to year of net zero CO2, Gt CO2)',\n",
    "        'cumulative net CO2 (2020-2050, Gt CO2)',\n",
    "        'cumulative Non-CO2 (2020-2050, Gt CO2-equiv)',\n",
    "        'cumulative CCS (2020-2050, Gt CO2)',\n",
    "        'cumulative BECCS (2020-2050, Gt CO2)',\n",
    "        'cumulative GHGs (incl. indirect AFOLU) (2020-2050, Gt CO2-equiv)',\n",
    "        'Non-CO2 emissions reductions 2020-2050 %',\n",
    "        'Emissions|CO2 in 2050, Mt CO2/yr',\n",
    "        'Emissions|Total Non-CO2 in 2050, Mt CO2-equiv/yr',\n",
    "        'Emissions|Kyoto Gases (incl. indirect AFOLU) in year of net zero, Mt CO2-equiv/yr',\n",
    "        'Emissions|Kyoto Gases (incl. indirect AFOLU) in 2050, Mt CO2-equiv/yr',\n",
    "        'GHG emissions reductions 1990-2035 %',\n",
    "           'GHG emissions reductions 1990-2040 %'\n",
    "#         'Emissions|Kyoto Gases in 2050, Mt CO2-equiv/yr',\n",
    "]\n",
    "title = '<b>Emissions</b>'\n",
    "filename = f'Histo_emissions.html'\n",
    "dfo = dfmeta[columns]\n",
    "plot_histo(dfo, columns, filename=filename, color_column='mskey', nbins=25, title=title)"
   ]
  },
  {
   "cell_type": "markdown",
   "id": "8c7d099c",
   "metadata": {},
   "source": [
    "## Characteristics"
   ]
  },
  {
   "cell_type": "code",
   "execution_count": null,
   "id": "5da1120b",
   "metadata": {},
   "outputs": [],
   "source": [
    "columns = ['model','scenario','model_stripped', 'mskey',\n",
    "        'year of net-zero CO2 emissions (threshold=0 Gt CO2/yr)',\n",
    "        'year of net-zero GHGs full emissions (threshold=0 Gt CO2-equiv/yr)',\n",
    "       'Emissions|Total Non-CO2 in 2050, Mt CO2-equiv/yr',\n",
    "#        'Emissions|CO2|AFOLU in 2050, Mt CO2/yr',\n",
    "       'Carbon Sequestration|CCS|Biomass in 2050, Mt CO2/yr',\n",
    "       'Primary Energy|Renewables (incl.Biomass)|Share in 2050, %',\n",
    "       'Primary Energy|Non-biomass renewables|Share in 2050, %',\n",
    "       'Primary Energy|Fossil|Share in 2050, %',\n",
    "       'Primary Energy|Fossil|w/o CCS|Share in 2050, %',\n",
    "       'Final Energy in 2050, EJ/yr',\n",
    "       'Final Energy|Electrification|Share in 2050, %',\n",
    "       'PE Import dependency in 2050, %',\n",
    "       'PE Import dependency|Fossil in 2050, %',\n",
    "       'Trade in 2050, EJ/yr',\n",
    "       'Trade|Primary Energy|Fossil in 2050, EJ/yr', \n",
    "]\n",
    "\n",
    "title = '<b>Energy characteristics</b>'\n",
    "filename = f'Histo_energy.html'\n",
    "dfo = dfmeta[columns]\n",
    "plot_histo(dfo, columns, filename=filename, color_column='mskey', nbins=25, title=title)"
   ]
  },
  {
   "cell_type": "markdown",
   "id": "a4c38383",
   "metadata": {},
   "source": [
    "## Sectoral"
   ]
  },
  {
   "cell_type": "code",
   "execution_count": null,
   "id": "755aaa88",
   "metadata": {},
   "outputs": [],
   "source": [
    "columns = ['model','scenario','model_stripped', 'mskey',\n",
    "       'Primary Energy|Renewables (incl.Biomass)|Share in 2050, %',\n",
    "       'Primary Energy|Non-biomass renewables|Share in 2050, %',\n",
    "       'Primary Energy|Fossil|Share in 2050, %',\n",
    "       'Primary Energy|Fossil|w/o CCS|Share in 2050, %',\n",
    "       'Final Energy in 2050, EJ/yr',\n",
    "       'Final Energy|Electrification|Share in 2050, %',\n",
    "       'Final Energy|Industry|Fossil|Share in 2050, %',\n",
    "       'Final Energy|Residential and Commercial|Fossil|Share in 2050, %',\n",
    "       'Final Energy|Transportation|Fossil|Share in 2050, %',\n",
    "       'Carbon Sequestration|CCS in 2050, Mt CO2/yr',\n",
    "       'Carbon Sequestration|CCS|Biomass in 2050, Mt CO2/yr',\n",
    "       'Carbon Sequestration|CCS|Fossil in 2050, Mt CO2/yr',\n",
    "       'Carbon Sequestration|CCS|Industrial Processes in 2050, Mt CO2/yr',\n",
    "       'Trade|Primary Energy|Fossil in 2050, EJ/yr',\n",
    "       'PE Import dependency|Fossil in 2050, %',\n",
    "]\n",
    "\n",
    "title = '<b>Sectoral characteristics</b>'\n",
    "filename = f'Histo_sectoral.html'\n",
    "dfo = dfmeta[columns]\n",
    "plot_histo(dfo, columns, filename=filename, color_column='mskey', nbins=25, title=title)"
   ]
  }
 ],
 "metadata": {
  "kernelspec": {
   "display_name": "Python 3 (ipykernel)",
   "language": "python",
   "name": "python3"
  },
  "language_info": {
   "codemirror_mode": {
    "name": "ipython",
    "version": 3
   },
   "file_extension": ".py",
   "mimetype": "text/x-python",
   "name": "python",
   "nbconvert_exporter": "python",
   "pygments_lexer": "ipython3",
   "version": "3.10.8"
  }
 },
 "nbformat": 4,
 "nbformat_minor": 5
}
